{
 "cells": [
  {
   "cell_type": "code",
   "execution_count": 1,
   "id": "737908e4-526c-4076-9ea4-7c877ab90cd0",
   "metadata": {
    "tags": []
   },
   "outputs": [],
   "source": [
    "import pandas as pd\n",
    "import numpy as np\n",
    "import censusgeocode as cg\n",
    "from random import uniform\n",
    "from concurrent.futures import ThreadPoolExecutor\n",
    "from tqdm.notebook import tqdm"
   ]
  },
  {
   "cell_type": "code",
   "execution_count": 2,
   "id": "b8c4d2a0-83a2-4756-bd0d-77077352cdcf",
   "metadata": {
    "tags": []
   },
   "outputs": [],
   "source": [
    "crashes = pd.read_csv('/Users/hank/Documents/UChicago/Data Engineering Platforms/Final Project/bike_crashes_clean.csv')\n",
    "divvystations = pd.read_csv('/Users/hank/Documents/UChicago/Data Engineering Platforms/Final Project/Divvy_Bicycle_Stations_20231113.csv')\n",
    "bikeracks = pd.read_csv('/Users/hank/Documents/UChicago/Data Engineering Platforms/Final Project/Bike_Racks.csv')"
   ]
  },
  {
   "cell_type": "code",
   "execution_count": 3,
   "id": "2287ced2-61ed-480d-b1e4-f3f934542569",
   "metadata": {
    "tags": []
   },
   "outputs": [],
   "source": [
    "#cg.coordinates(x=-87, y=42)"
   ]
  },
  {
   "cell_type": "code",
   "execution_count": 4,
   "id": "4b64b56d-6964-4360-9efb-3a8abd17ea61",
   "metadata": {
    "tags": []
   },
   "outputs": [],
   "source": [
    "bikeracks_coord = bikeracks[['Latitude','Longitude']].rename(columns={\"Latitude\": \"latitude\", \"Longitude\": \"longitude\"})\n",
    "divvystations_coord = divvystations[['Latitude','Longitude']].rename(columns={\"Latitude\": \"latitude\", \"Longitude\": \"longitude\"})\n",
    "crashes_coord = crashes[['LATITUDE','LONGITUDE']].rename(columns={\"LATITUDE\": \"latitude\", \"LONGITUDE\": \"longitude\"})"
   ]
  },
  {
   "cell_type": "code",
   "execution_count": 5,
   "id": "75fc924d-786a-4a9d-9704-d35e9d1c6118",
   "metadata": {
    "tags": []
   },
   "outputs": [],
   "source": [
    "combined_df = pd.concat([bikeracks_coord, divvystations_coord, crashes_coord], ignore_index=True)\n",
    "combined_df['latitude'] = combined_df['latitude'].round(4)\n",
    "combined_df['longitude'] = combined_df['longitude'].round(4)\n",
    "combined_df = combined_df.drop_duplicates().dropna(how='all')"
   ]
  },
  {
   "cell_type": "code",
   "execution_count": 6,
   "id": "779c2034-8223-43c9-bdf9-89764a5b4c59",
   "metadata": {
    "tags": []
   },
   "outputs": [],
   "source": [
    "#geo_list = []\n",
    "#n = 0 \n",
    "#for f, g in zip(combined_df['latitude'], combined_df['longitude']):\n",
    "#    n = n + 1\n",
    "#    if n == 10: \n",
    "#        break\n",
    "#    try:\n",
    "#        census = cg.coordinates(x=g, y=f)['2020 Census Blocks'][0]\n",
    "#        data1 = [census['STATE'],census['COUNTY'],census['TRACT'], census['BLKGRP'], f, g]\n",
    "#        geo_list.append(data1)\n",
    "#    except:\n",
    "#        pass\n",
    "#    "
   ]
  },
  {
   "cell_type": "code",
   "execution_count": 7,
   "id": "78452635-139c-4829-ba1b-d9b0b8cf23b6",
   "metadata": {
    "tags": []
   },
   "outputs": [],
   "source": [
    "#geo_list"
   ]
  },
  {
   "cell_type": "code",
   "execution_count": 8,
   "id": "adfe541d-5af6-4b56-986f-972dd820380b",
   "metadata": {},
   "outputs": [],
   "source": [
    "#combined_df = combined_df.head(100)"
   ]
  },
  {
   "cell_type": "code",
   "execution_count": 9,
   "id": "b6419be5-2e1b-4575-82da-00ab81e9975f",
   "metadata": {},
   "outputs": [
    {
     "data": {
      "application/vnd.jupyter.widget-view+json": {
       "model_id": "b7ff87f19b4e4e8791f849723977bfbf",
       "version_major": 2,
       "version_minor": 0
      },
      "text/plain": [
       "  0%|          | 0/13630 [00:00<?, ?it/s]"
      ]
     },
     "metadata": {},
     "output_type": "display_data"
    }
   ],
   "source": [
    "def geocode(row):\n",
    "    index, lat, lng = row\n",
    "    try:\n",
    "        census = cg.coordinates(lng, lat)['2020 Census Blocks'][0]\n",
    "\n",
    "        data = dict(geoid=census['GEOID'], \n",
    "                    state=census['STATE'], \n",
    "                    county=census['COUNTY'], \n",
    "                    tract=census['TRACT'], \n",
    "                    blockgrp=census['BLKGRP'], \n",
    "                    lat=lat, \n",
    "                    lng=lng)\n",
    "\n",
    "    except Exception as e:\n",
    "        data = dict(lat=lat, \n",
    "                    lng=lng)\n",
    "\n",
    "    return data\n",
    "\n",
    "with ThreadPoolExecutor() as tpe:\n",
    "     data = list(tqdm(tpe.map(geocode, combined_df.itertuples()), total=len(combined_df)))\n",
    "df = pd.DataFrame.from_records(data)"
   ]
  },
  {
   "cell_type": "code",
   "execution_count": 16,
   "id": "4d9efd4f-3d4d-4441-8478-a0999b203741",
   "metadata": {
    "tags": []
   },
   "outputs": [],
   "source": [
    "df['location_id'] = range(1, len(df) + 1)\n",
    "intcols = ['geoid', 'state','county','tract','blockgrp'] "
   ]
  },
  {
   "cell_type": "code",
   "execution_count": 17,
   "id": "7a8d05ab-7a10-4be3-8c1a-8fde92cdcdff",
   "metadata": {
    "tags": []
   },
   "outputs": [],
   "source": [
    "df = df.dropna()\n",
    "df[cols] = df[intcols].astype(int)"
   ]
  },
  {
   "cell_type": "code",
   "execution_count": 19,
   "id": "5447d872-08b0-4745-baa5-ff0344912adc",
   "metadata": {
    "tags": []
   },
   "outputs": [],
   "source": [
    "df.to_csv('/Users/hank/Documents/UChicago/Data Engineering Platforms/Final Project/Location_Mapping.csv')"
   ]
  },
  {
   "cell_type": "code",
   "execution_count": null,
   "id": "4f7272c3-7837-453d-9ddf-c718df115bc8",
   "metadata": {},
   "outputs": [],
   "source": []
  }
 ],
 "metadata": {
  "kernelspec": {
   "display_name": "Python 3 (ipykernel)",
   "language": "python",
   "name": "python3"
  },
  "language_info": {
   "codemirror_mode": {
    "name": "ipython",
    "version": 3
   },
   "file_extension": ".py",
   "mimetype": "text/x-python",
   "name": "python",
   "nbconvert_exporter": "python",
   "pygments_lexer": "ipython3",
   "version": "3.11.4"
  }
 },
 "nbformat": 4,
 "nbformat_minor": 5
}
